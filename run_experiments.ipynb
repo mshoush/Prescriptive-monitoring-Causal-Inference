{
 "cells": [
  {
   "cell_type": "code",
   "execution_count": 1,
   "id": "088fe50e",
   "metadata": {
    "scrolled": true
   },
   "outputs": [],
   "source": [
    "%load_ext autoreload\n",
    "%autoreload 2\n",
    "%matplotlib inline\n",
    "import matplotlib.pyplot as plt\n",
    "import pandas as pd\n",
    "from sys import argv"
   ]
  },
  {
   "cell_type": "markdown",
   "id": "8ea12191",
   "metadata": {},
   "source": [
    "# 1. Prepare data"
   ]
  },
  {
   "cell_type": "code",
   "execution_count": 3,
   "id": "09e01d1f",
   "metadata": {
    "scrolled": true
   },
   "outputs": [
    {
     "name": "stdout",
     "output_type": "stream",
     "text": [
      "The autoreload extension is already loaded. To reload it, use:\n",
      "  %reload_ext autoreload\n"
     ]
    }
   ],
   "source": [
    "# prepare data\n",
    "%run -i './prepare_data/BPIC2017_preparation_outcom_and_treatment.py' \"./prepare_data/bpic2017.pkl\""
   ]
  },
  {
   "cell_type": "markdown",
   "id": "66aee69e",
   "metadata": {},
   "source": [
    "# 2. OPtimize xgboost params\n"
   ]
  },
  {
   "cell_type": "code",
   "execution_count": null,
   "id": "a3ce2d6b",
   "metadata": {
    "scrolled": true
   },
   "outputs": [
    {
     "name": "stdout",
     "output_type": "stream",
     "text": [
      "Preparing data...\n",
      "read data...\n",
      "/home/mshoush/ut_cs_phd/phd/code/gitHub/predictive_and_prescriptive/prepared_bpic2017.pkl\n",
      "fininsh read...\n"
     ]
    }
   ],
   "source": [
    "%run -i './predictive_and_prescriptive/optimize_params_xgboost.py' \"prepared_bpic2017\" \"params_dir\"\n"
   ]
  },
  {
   "cell_type": "markdown",
   "id": "97997ae6",
   "metadata": {},
   "source": [
    "# 3. Run Predictive and ORF models.\n"
   ]
  },
  {
   "cell_type": "code",
   "execution_count": null,
   "id": "246a4963",
   "metadata": {},
   "outputs": [],
   "source": [
    "%run -i './predictive_and_prescriptive/orf-18-5-2021.py' \"prepared_bpic2017\" \"optimal_params_xgboost_prepared_bpic2017.pickle\" \"results_dir\""
   ]
  }
 ],
 "metadata": {
  "kernelspec": {
   "display_name": "Python 3",
   "language": "python",
   "name": "python3"
  },
  "language_info": {
   "codemirror_mode": {
    "name": "ipython",
    "version": 3
   },
   "file_extension": ".py",
   "mimetype": "text/x-python",
   "name": "python",
   "nbconvert_exporter": "python",
   "pygments_lexer": "ipython3",
   "version": "3.6.13"
  }
 },
 "nbformat": 4,
 "nbformat_minor": 5
}
