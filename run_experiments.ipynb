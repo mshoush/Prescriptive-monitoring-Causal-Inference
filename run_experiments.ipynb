{
 "cells": [
  {
   "cell_type": "code",
   "execution_count": 11,
   "id": "088fe50e",
   "metadata": {
    "scrolled": true
   },
   "outputs": [
    {
     "name": "stdout",
     "output_type": "stream",
     "text": [
      "The autoreload extension is already loaded. To reload it, use:\n",
      "  %reload_ext autoreload\n"
     ]
    }
   ],
   "source": [
    "%load_ext autoreload\n",
    "%autoreload 2\n",
    "%matplotlib inline\n",
    "import matplotlib.pyplot as plt\n",
    "import pandas as pd\n",
    "from sys import argv"
   ]
  },
  {
   "cell_type": "markdown",
   "id": "0419efef",
   "metadata": {},
   "source": [
    "# 1. Prepare data"
   ]
  },
  {
   "cell_type": "code",
   "execution_count": null,
   "id": "09e01d1f",
   "metadata": {
    "scrolled": true
   },
   "outputs": [],
   "source": [
    "# prepare data\n",
    "%run -i './prepare_data/BPIC2017_preparation_outcom_and_treatment.py' \"./prepare_data/bpic2017.pkl\""
   ]
  },
  {
   "cell_type": "markdown",
   "id": "d0344e07",
   "metadata": {},
   "source": [
    "# 2. OPtimize xgboost params\n"
   ]
  },
  {
   "cell_type": "code",
   "execution_count": null,
   "id": "a3ce2d6b",
   "metadata": {
    "scrolled": true
   },
   "outputs": [],
   "source": [
    "%run -i './predictive_and_prescriptive/optimize_params_xgboost.py' \"prepared_bpic2017\" \"params_dir\"\n"
   ]
  },
  {
   "cell_type": "markdown",
   "id": "e95a15f3",
   "metadata": {},
   "source": [
    "# 3. Run Predictive and ORF models.\n"
   ]
  },
  {
   "cell_type": "code",
   "execution_count": null,
   "id": "246a4963",
   "metadata": {},
   "outputs": [],
   "source": [
    "%run -i './predictive_and_prescriptive/orf-18-5-2021.py' \"prepared_bpic2017\" \"optimal_params_xgboost_prepared_bpic2017.pickle\" \"results_dir\""
   ]
  },
  {
   "cell_type": "markdown",
   "id": "116cb41e",
   "metadata": {},
   "source": [
    "# 4. Prepare results data"
   ]
  },
  {
   "cell_type": "code",
   "execution_count": null,
   "id": "c632c729",
   "metadata": {
    "scrolled": false
   },
   "outputs": [],
   "source": [
    "%run -i './predictive_and_prescriptive/prepare_results_data .py'"
   ]
  },
  {
   "cell_type": "code",
   "execution_count": null,
   "id": "908b17f2",
   "metadata": {
    "scrolled": true
   },
   "outputs": [],
   "source": [
    "# 5. RQ1 and RQ2\n",
    "%run -i './resource_allocator/resource allocator.py'"
   ]
  },
  {
   "cell_type": "code",
   "execution_count": null,
   "id": "ff17a219",
   "metadata": {
    "scrolled": true
   },
   "outputs": [
    {
     "name": "stdout",
     "output_type": "stream",
     "text": [
      "The autoreload extension is already loaded. To reload it, use:\n",
      "  %reload_ext autoreload\n",
      "allocate res: 1\n",
      "Apply treatment\n",
      "resource number: 1 blocked\n",
      "strat timer for resource number: 1\n",
      "allocateRes func has returned\n",
      "\n",
      "Treatment duration is: 55, for resource number: 1\n",
      "Release res: 1\n",
      "Do more stuff here\n",
      "\n",
      "allocate res: 1\n",
      "Apply treatment\n",
      "resource number: 1 blocked\n",
      "strat timer for resource number: 1\n",
      "allocateRes func has returned\n",
      "\n",
      "Treatment duration is: 24, for resource number: 1\n",
      "Release res: 1\n",
      "Do more stuff here\n",
      "\n",
      "allocate res: 1\n",
      "Apply treatment\n",
      "resource number: 1 blocked\n",
      "strat timer for resource number: 1\n",
      "allocateRes func has returned\n",
      "\n"
     ]
    }
   ],
   "source": [
    "# 6. RQ3\n",
    "%run -i './resource_allocator/resource_allocator_baseline.py'"
   ]
  },
  {
   "cell_type": "code",
   "execution_count": null,
   "id": "98294502",
   "metadata": {},
   "outputs": [],
   "source": []
  }
 ],
 "metadata": {
  "kernelspec": {
   "display_name": "Python 3",
   "language": "python",
   "name": "python3"
  },
  "language_info": {
   "codemirror_mode": {
    "name": "ipython",
    "version": 3
   },
   "file_extension": ".py",
   "mimetype": "text/x-python",
   "name": "python",
   "nbconvert_exporter": "python",
   "pygments_lexer": "ipython3",
   "version": "3.6.13"
  }
 },
 "nbformat": 4,
 "nbformat_minor": 5
}
